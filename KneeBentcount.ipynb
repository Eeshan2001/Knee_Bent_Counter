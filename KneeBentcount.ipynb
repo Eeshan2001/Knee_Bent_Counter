{
  "cells": [
    {
      "cell_type": "code",
      "source": [
        "!pip install mediapipe opencv-python"
      ],
      "metadata": {
        "colab": {
          "base_uri": "https://localhost:8080/"
        },
        "id": "288v7nj9F-Ru",
        "outputId": "ff23c383-61d8-4c28-9892-3b3872c2758a"
      },
      "id": "288v7nj9F-Ru",
      "execution_count": 4,
      "outputs": [
        {
          "output_type": "stream",
          "name": "stdout",
          "text": [
            "Requirement already satisfied: mediapipe in /usr/local/lib/python3.7/dist-packages (0.8.9.1)\n",
            "Requirement already satisfied: opencv-python in /usr/local/lib/python3.7/dist-packages (4.1.2.30)\n",
            "Requirement already satisfied: attrs>=19.1.0 in /usr/local/lib/python3.7/dist-packages (from mediapipe) (21.4.0)\n",
            "Requirement already satisfied: opencv-contrib-python in /usr/local/lib/python3.7/dist-packages (from mediapipe) (4.1.2.30)\n",
            "Requirement already satisfied: absl-py in /usr/local/lib/python3.7/dist-packages (from mediapipe) (1.0.0)\n",
            "Requirement already satisfied: protobuf>=3.11.4 in /usr/local/lib/python3.7/dist-packages (from mediapipe) (3.17.3)\n",
            "Requirement already satisfied: numpy in /usr/local/lib/python3.7/dist-packages (from mediapipe) (1.21.5)\n",
            "Requirement already satisfied: matplotlib in /usr/local/lib/python3.7/dist-packages (from mediapipe) (3.2.2)\n",
            "Requirement already satisfied: six>=1.9 in /usr/local/lib/python3.7/dist-packages (from protobuf>=3.11.4->mediapipe) (1.15.0)\n",
            "Requirement already satisfied: pyparsing!=2.0.4,!=2.1.2,!=2.1.6,>=2.0.1 in /usr/local/lib/python3.7/dist-packages (from matplotlib->mediapipe) (3.0.8)\n",
            "Requirement already satisfied: kiwisolver>=1.0.1 in /usr/local/lib/python3.7/dist-packages (from matplotlib->mediapipe) (1.4.2)\n",
            "Requirement already satisfied: python-dateutil>=2.1 in /usr/local/lib/python3.7/dist-packages (from matplotlib->mediapipe) (2.8.2)\n",
            "Requirement already satisfied: cycler>=0.10 in /usr/local/lib/python3.7/dist-packages (from matplotlib->mediapipe) (0.11.0)\n",
            "Requirement already satisfied: typing-extensions in /usr/local/lib/python3.7/dist-packages (from kiwisolver>=1.0.1->matplotlib->mediapipe) (4.1.1)\n"
          ]
        }
      ]
    },
    {
      "cell_type": "markdown",
      "id": "cd9590d1",
      "metadata": {
        "id": "cd9590d1"
      },
      "source": [
        "##**Step-1:** Import Libraries"
      ]
    },
    {
      "cell_type": "code",
      "execution_count": 20,
      "id": "b280361f",
      "metadata": {
        "id": "b280361f"
      },
      "outputs": [],
      "source": [
        "#import modules\n",
        "import cv2\n",
        "import mediapipe as mp\n",
        "import numpy as np\n",
        "import time\n",
        "from google.colab.patches import cv2_imshow\n",
        "mp_drawing = mp.solutions.drawing_utils\n",
        "mp_pose = mp.solutions.pose"
      ]
    },
    {
      "cell_type": "markdown",
      "id": "fbdd39a3",
      "metadata": {
        "id": "fbdd39a3"
      },
      "source": [
        "# Pose Landmark Model\n",
        "<img src= 'https://google.github.io/mediapipe/images/mobile/pose_tracking_full_body_landmarks.png'>"
      ]
    },
    {
      "cell_type": "code",
      "execution_count": 23,
      "id": "2f06c4f2",
      "metadata": {
        "scrolled": true,
        "id": "2f06c4f2",
        "outputId": "18d8ab07-f9c8-420a-ae75-b274e09ccf8b",
        "colab": {
          "base_uri": "https://localhost:8080/"
        }
      },
      "outputs": [
        {
          "output_type": "stream",
          "name": "stdout",
          "text": [
            "PoseLandmark.NOSE\n",
            "PoseLandmark.LEFT_EYE_INNER\n",
            "PoseLandmark.LEFT_EYE\n",
            "PoseLandmark.LEFT_EYE_OUTER\n",
            "PoseLandmark.RIGHT_EYE_INNER\n",
            "PoseLandmark.RIGHT_EYE\n",
            "PoseLandmark.RIGHT_EYE_OUTER\n",
            "PoseLandmark.LEFT_EAR\n",
            "PoseLandmark.RIGHT_EAR\n",
            "PoseLandmark.MOUTH_LEFT\n",
            "PoseLandmark.MOUTH_RIGHT\n",
            "PoseLandmark.LEFT_SHOULDER\n",
            "PoseLandmark.RIGHT_SHOULDER\n",
            "PoseLandmark.LEFT_ELBOW\n",
            "PoseLandmark.RIGHT_ELBOW\n",
            "PoseLandmark.LEFT_WRIST\n",
            "PoseLandmark.RIGHT_WRIST\n",
            "PoseLandmark.LEFT_PINKY\n",
            "PoseLandmark.RIGHT_PINKY\n",
            "PoseLandmark.LEFT_INDEX\n",
            "PoseLandmark.RIGHT_INDEX\n",
            "PoseLandmark.LEFT_THUMB\n",
            "PoseLandmark.RIGHT_THUMB\n",
            "PoseLandmark.LEFT_HIP\n",
            "PoseLandmark.RIGHT_HIP\n",
            "PoseLandmark.LEFT_KNEE\n",
            "PoseLandmark.RIGHT_KNEE\n",
            "PoseLandmark.LEFT_ANKLE\n",
            "PoseLandmark.RIGHT_ANKLE\n",
            "PoseLandmark.LEFT_HEEL\n",
            "PoseLandmark.RIGHT_HEEL\n",
            "PoseLandmark.LEFT_FOOT_INDEX\n",
            "PoseLandmark.RIGHT_FOOT_INDEX\n"
          ]
        }
      ],
      "source": [
        "#list of all the given landmarks in mediapipe\n",
        "for lndmrk in mp_pose.PoseLandmark:\n",
        "    print(lndmrk)"
      ]
    },
    {
      "cell_type": "markdown",
      "source": [
        "# Run Main Cell"
      ],
      "metadata": {
        "id": "XGJbkC2EKJhs"
      },
      "id": "XGJbkC2EKJhs"
    },
    {
      "cell_type": "code",
      "source": [
        "#Setting up OpenCV and variables required\n",
        "cap = cv2.VideoCapture('KneeBend.mp4')\n",
        "frame_width = int(cap.get(3))\n",
        "frame_height = int(cap.get(4))\n",
        "fourcc = cv2.VideoWriter_fourcc(*'MP4V')\n",
        "result = cv2.VideoWriter('final_output.mp4', fourcc, 20.0, (frame_width,frame_height))\n",
        "\n",
        "import time\n",
        "# Curl counter variables\n",
        "counter = 0 \n",
        "stage = None\n",
        "toggle=0\n",
        "togglesec=0\n",
        "togglesecfin=0\n",
        "feedback=0\n",
        "\n",
        "#Calculating the angle\n",
        "def calculate_angle(a,b,c):\n",
        "    a = np.array(a) # First\n",
        "    b = np.array(b) # Mid\n",
        "    c = np.array(c) # End\n",
        "    radians = np.arctan2(c[1]-b[1], c[0]-b[0]) - np.arctan2(a[1]-b[1], a[0]-b[0])\n",
        "    angle = np.abs(radians*180.0/np.pi)\n",
        "    if angle >180.0:\n",
        "        angle = 360-angle\n",
        "    return angle \n",
        "\n",
        "framecount=0\n",
        "secs=0\n",
        "\n",
        "#------------------------------------------------------------------------------------------------\n",
        "\n",
        "## Setup mediapipe instance\n",
        "with mp_pose.Pose(min_detection_confidence=0.5, min_tracking_confidence=0.5) as pose:\n",
        "    \n",
        "    #Main while loop\n",
        "    while cap.isOpened():\n",
        "        ret, frame = cap.read()\n",
        "        if(ret):\n",
        "            framecount+=1\n",
        "            if(framecount%25==0):\n",
        "                secs+=1\n",
        "            '''fps = cap.get(cv2.cv2.CAP_PROP_FPS)\n",
        "            print(\"fps\",fps) # finding fps... observed of video 25 frames/sec'''\n",
        "            # Recolor image to RGB\n",
        "            image = cv2.cvtColor(frame, cv2.COLOR_BGR2RGB)\n",
        "            image.flags.writeable = False\n",
        "            # Make detection\n",
        "            results = pose.process(image)\n",
        "            # Recolor back to BGR\n",
        "            image.flags.writeable = True\n",
        "            image = cv2.cvtColor(image, cv2.COLOR_RGB2BGR)\n",
        "            # Extract landmarks\n",
        "            try:\n",
        "                landmarks = results.pose_landmarks.landmark\n",
        "                # Get coordinates\n",
        "                hip = [landmarks[mp_pose.PoseLandmark.LEFT_HIP.value].x,landmarks[mp_pose.PoseLandmark.LEFT_HIP.value].y]#23\n",
        "                knee = [landmarks[mp_pose.PoseLandmark.LEFT_KNEE.value].x,landmarks[mp_pose.PoseLandmark.LEFT_KNEE.value].y]#25\n",
        "                ankle = [landmarks[mp_pose.PoseLandmark.LEFT_ANKLE.value].x,landmarks[mp_pose.PoseLandmark.LEFT_ANKLE.value].y]#27\n",
        "                #print(knee)\n",
        "                # Calculate angle\n",
        "                angle = calculate_angle(hip, knee, ankle)\n",
        "                # Visualize angle\n",
        "                cv2.putText(image, str(angle), \n",
        "                               tuple(np.multiply(knee, [640, 480]).astype(int)), \n",
        "                               cv2.FONT_HERSHEY_SIMPLEX, 0.5, (255, 255, 255), 2, cv2.LINE_AA\n",
        "                                    )\n",
        "                \n",
        "                # Curl counter logic\n",
        "                if angle > 160 and toggle==1:\n",
        "                    stage = \"down\"\n",
        "                    toggle=0\n",
        "                    print(\"Knee down for\",togglesecfin,\" seconds\")\n",
        "                    if(togglesecfin<8):\n",
        "                        feedback=1\n",
        "                    togglesecfin=0\n",
        "                    togglesec=0\n",
        "\n",
        "                if angle > 160 and toggle==0:\n",
        "                    stage = \"down\"\n",
        "\n",
        "                if angle < 140 and stage =='down' and toggle==0:\n",
        "                    feedback=0\n",
        "                    toggle=1\n",
        "                    togglesec=secs\n",
        "                    stage=\"up\"\n",
        "                    counter +=1\n",
        "                    #print(counter)\n",
        "\n",
        "                if angle < 140 and stage =='up' and toggle==1:\n",
        "                    toggle=1\n",
        "                    togglesecfin=secs-togglesec\n",
        "                    #print(secs,togglesec)\n",
        "                    #togglesec=togglesecfin\n",
        "                    #print(togglesec)\n",
        "                    stage=\"up\"\n",
        "                    #counter +=1\n",
        "                    #print(counter)\n",
        "\n",
        "            except:\n",
        "                pass\n",
        "\n",
        "            # Render curl counter\n",
        "            # Setup status box\n",
        "\n",
        "            if(feedback==0):\n",
        "                cv2.rectangle(image, (0,0), (225,73), (245,117,16), -1)\n",
        "                # Rep data\n",
        "                cv2.putText(image, 'REPS', (15,12), \n",
        "                            cv2.FONT_HERSHEY_SIMPLEX, 0.5, (0,0,0), 1, cv2.LINE_AA)\n",
        "                cv2.putText(image, str(counter), \n",
        "                            (10,60), \n",
        "                            cv2.FONT_HERSHEY_SIMPLEX, 2, (255,255,255), 2, cv2.LINE_AA)\n",
        "\n",
        "                # Stage data\n",
        "                cv2.putText(image, 'STAGE', (65,12), \n",
        "                            cv2.FONT_HERSHEY_SIMPLEX, 0.5, (0,0,0), 1, cv2.LINE_AA)\n",
        "                cv2.putText(image, stage, \n",
        "                            (80,60), \n",
        "                            cv2.FONT_HERSHEY_SIMPLEX, 2, (255,255,255), 2, cv2.LINE_AA)\n",
        "                cv2.putText(image, str(secs), \n",
        "                            (450,60), \n",
        "                            cv2.FONT_HERSHEY_SIMPLEX, 2, (255,255,255), 2, cv2.LINE_AA)\n",
        "                # Render detections\n",
        "                mp_drawing.draw_landmarks(image, results.pose_landmarks, mp_pose.POSE_CONNECTIONS,\n",
        "                                        mp_drawing.DrawingSpec(color=(245,117,66), thickness=2, circle_radius=2), \n",
        "                                        mp_drawing.DrawingSpec(color=(245,66,230), thickness=2, circle_radius=2) \n",
        "                                         )               \n",
        "                cv2.imshow('Mediapipe Feed', image)\n",
        "                result.write(image)\n",
        "                if cv2.waitKey(10) & 0xFF == ord('q'):\n",
        "                    break\n",
        "            else:\n",
        "                cv2.rectangle(image, (0,0), (225,73), (245,117,16), -1)\n",
        "                # Rep data\n",
        "                cv2.putText(image, 'REPS', (15,12), \n",
        "                            cv2.FONT_HERSHEY_SIMPLEX, 0.5, (0,0,0), 1, cv2.LINE_AA)\n",
        "                cv2.putText(image, str(counter), \n",
        "                            (10,60), \n",
        "                            cv2.FONT_HERSHEY_SIMPLEX, 2, (255,255,255), 2, cv2.LINE_AA)\n",
        "\n",
        "                # Stage data\n",
        "                cv2.putText(image, 'STAGE', (65,12), \n",
        "                            cv2.FONT_HERSHEY_SIMPLEX, 0.5, (0,0,0), 1, cv2.LINE_AA)\n",
        "                cv2.putText(image, stage, \n",
        "                            (80,60), \n",
        "                            cv2.FONT_HERSHEY_SIMPLEX, 2, (255,255,255), 2, cv2.LINE_AA)\n",
        "                cv2.putText(image, 'KEEP FEET BENT FOR MORE THAN 8 SECONDS!', (150,150), cv2.FONT_HERSHEY_SIMPLEX, 0.5, (0,0,255), 1, cv2.LINE_AA)\n",
        "                cv2.putText(image, str(secs), \n",
        "                            (450,60), \n",
        "                            cv2.FONT_HERSHEY_SIMPLEX, 2, (255,255,255), 2, cv2.LINE_AA)\n",
        "                # Render detections\n",
        "                mp_drawing.draw_landmarks(image, results.pose_landmarks, mp_pose.POSE_CONNECTIONS,\n",
        "                                        mp_drawing.DrawingSpec(color=(245,117,66), thickness=2, circle_radius=2), \n",
        "                                        mp_drawing.DrawingSpec(color=(245,66,230), thickness=2, circle_radius=2) \n",
        "                                         )               \n",
        "                cv2.imshow('Mediapipe Feed', image)\n",
        "                result.write(image)\n",
        "                if cv2.waitKey(10) & 0xFF == ord('q'):\n",
        "                    break\n",
        "\n",
        "    cap.release()\n",
        "    cv2.destroyAllWindows()\n",
        "    result.release()"
      ],
      "metadata": {
        "id": "1-ECWG2EKI1c"
      },
      "id": "1-ECWG2EKI1c",
      "execution_count": 27,
      "outputs": []
    }
  ],
  "metadata": {
    "kernelspec": {
      "display_name": "Python 3",
      "language": "python",
      "name": "python3"
    },
    "language_info": {
      "codemirror_mode": {
        "name": "ipython",
        "version": 3
      },
      "file_extension": ".py",
      "mimetype": "text/x-python",
      "name": "python",
      "nbconvert_exporter": "python",
      "pygments_lexer": "ipython3",
      "version": "3.8.8"
    },
    "colab": {
      "name": "kneebent.ipynb",
      "provenance": [],
      "collapsed_sections": []
    }
  },
  "nbformat": 4,
  "nbformat_minor": 5
}